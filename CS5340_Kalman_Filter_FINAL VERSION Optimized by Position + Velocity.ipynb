{
 "cells": [
  {
   "cell_type": "code",
   "execution_count": 3,
   "id": "e580e50e-762e-401a-bd80-e4c133a0b932",
   "metadata": {
    "tags": []
   },
   "outputs": [],
   "source": [
    "import math\n",
    "import numpy as np\n",
    "import filterpy as fpy\n",
    "from numpy.random import randn\n",
    "from scipy.linalg import solve\n",
    "import pandas as pd\n"
   ]
  },
  {
   "cell_type": "markdown",
   "id": "f3486aa7-7cbb-4c60-b7c0-cd97b39fec07",
   "metadata": {},
   "source": [
    "### DATA CLEANING AND EXTRACTION"
   ]
  },
  {
   "cell_type": "code",
   "execution_count": 90,
   "id": "b7e17e7e-cc19-4fd4-ac5a-634e8b8395dc",
   "metadata": {
    "tags": []
   },
   "outputs": [
    {
     "name": "stdout",
     "output_type": "stream",
     "text": [
      "(8908, 8)\n"
     ]
    }
   ],
   "source": [
    "# File_data = np.loadtxt(r\"C:\\Users\\flame\\Documents\\CS5340\\ewap_dataset_full\\ewap_dataset\\seq_eth\\obsmat.txt\") \n",
    "\n",
    "File_data = np.loadtxt(r\"C:\\Users\\flame\\OneDrive\\Documents\\CS5340\\ewap_dataset_full\\ewap_dataset\\seq_eth\\obsmat.txt\") \n",
    "print(File_data.shape) \n",
    "#(8908, 8)\n",
    "#[frame_number pedestrian_ID pos_x pos_z pos_y v_x v_z v_y ]\n",
    "#367 predestrians in video"
   ]
  },
  {
   "cell_type": "markdown",
   "id": "af61761c-0b7a-40d8-84f7-2189199b7251",
   "metadata": {},
   "source": [
    "## Obtaining list of pedestrians' IDs with at least 20 data rows\n"
   ]
  },
  {
   "cell_type": "code",
   "execution_count": 91,
   "id": "89e1d0a0-998a-4fa0-8376-193463a9ca7a",
   "metadata": {},
   "outputs": [],
   "source": [
    "row_list = []\n",
    "for i in range(1,368):\n",
    "    row_list.append((np.count_nonzero(File_data[:,1]==i),i))\n",
    "\n",
    "row_list.sort(reverse = True)\n",
    "MoreThan20Data_Pedestrian_list = []\n",
    "for i in row_list:\n",
    "    if i[0]>=20:\n",
    "        MoreThan20Data_Pedestrian_list.append(i[1])\n",
    "        \n",
    "# MoreThan20Data_Pedestrian_list = [353]\n",
    "# MoreThan20Data_df = MoreThan20Data_df.rename(columns = {\"Frame_ID\":\"Time (s)\"})\n"
   ]
  },
  {
   "cell_type": "markdown",
   "id": "4fee5613-cf2c-457a-9a50-8ec39f021a5e",
   "metadata": {},
   "source": [
    "### Getting DataFrame version of Raw Data"
   ]
  },
  {
   "cell_type": "code",
   "execution_count": 92,
   "id": "cfa84953-eacc-471d-9ac9-8506baf50d70",
   "metadata": {},
   "outputs": [],
   "source": [
    "raw_df = pd.DataFrame(File_data)\n",
    "raw_df = raw_df.drop([3, 6], axis=1)\n",
    "raw_df = raw_df.rename(columns={0: \"Frame_ID\", 1: \"Pedestrian_ID\", 2:\"X_Pos\",4:\"Y_Pos\",5:\"X_Vel\",7:\"Y_Vel\"})"
   ]
  },
  {
   "cell_type": "markdown",
   "id": "f64b8337-ebc2-47f0-b04c-1f8e60a0788e",
   "metadata": {},
   "source": [
    "## Ground Truth Data (Take from EWAP Dataset)"
   ]
  },
  {
   "cell_type": "code",
   "execution_count": 93,
   "id": "e41cc115-4dfd-434b-a5b1-b487f4318ad5",
   "metadata": {},
   "outputs": [],
   "source": [
    "groundtruth_dataset =[]\n",
    "\n",
    "# for i in MoreThan20Data_Pedestrian_list:\n",
    "#     groundtruth_dataset = raw_df[raw_df[\"Pedestrian_ID\"]==MoreThan20Data_Pedestrian_list[i]]\n",
    "MoreThan20Data_df = raw_df[raw_df['Pedestrian_ID'].isin(MoreThan20Data_Pedestrian_list)].reset_index(drop=True)\n",
    "MoreThan20Data_df[\"Frame_ID\"] = MoreThan20Data_df[\"Frame_ID\"]/25\n",
    "MoreThan20Data_df = MoreThan20Data_df.rename(columns = {\"Frame_ID\":\"Time (s)\"})\n"
   ]
  },
  {
   "cell_type": "markdown",
   "id": "11c9cd4a-6542-47be-8619-fdecb63eaeb0",
   "metadata": {},
   "source": [
    "### Noisy Data (pos_sensor_std = 0.3 , vel_sensor_std = 0.45)"
   ]
  },
  {
   "cell_type": "code",
   "execution_count": 94,
   "id": "b28162f6-6600-4c65-bcf4-eb6d09d05b83",
   "metadata": {},
   "outputs": [],
   "source": [
    "# define a function to apply to the norm dist\n",
    "def norm_dist(mean,std):\n",
    "    return np.random.normal(mean,std)\n",
    "\n",
    "pos_sensor_std =0.3\n",
    "vel_sensor_std =0.45\n",
    "\n",
    "NoisyMoreThan20Data_df = MoreThan20Data_df.copy(deep=True)\n",
    "\n",
    "# apply the function to the salary column using apply()\n",
    "NoisyMoreThan20Data_df['X_Pos'] = MoreThan20Data_df['X_Pos'].apply(norm_dist,std=pos_sensor_std)\n",
    "NoisyMoreThan20Data_df['Y_Pos'] = MoreThan20Data_df['Y_Pos'].apply(norm_dist,std=pos_sensor_std)\n",
    "NoisyMoreThan20Data_df['X_Vel'] = MoreThan20Data_df['X_Vel'].apply(norm_dist,std=vel_sensor_std)\n",
    "NoisyMoreThan20Data_df['Y_Vel'] = MoreThan20Data_df['Y_Vel'].apply(norm_dist,std=vel_sensor_std)\n"
   ]
  },
  {
   "cell_type": "markdown",
   "id": "38749b3c-4db1-487e-84f2-e424274673d3",
   "metadata": {},
   "source": [
    "### Generation of the KF data (BaseLine Model) with FUNCTION (Using Pedestrian's 1st Noisy Data Point as initial position)"
   ]
  },
  {
   "cell_type": "markdown",
   "id": "07f60ef6-66e0-4b57-824c-9bf70fdc73da",
   "metadata": {},
   "source": [
    "### pos_sensor_std =0.3\n",
    "### vel_sensor_std =0.45\n"
   ]
  },
  {
   "cell_type": "code",
   "execution_count": 95,
   "id": "9c5827d2-2d42-4981-a1e4-39de9f7dc763",
   "metadata": {},
   "outputs": [],
   "source": [
    "# # #ASSUME Uniform distribution\n",
    "\n",
    "# #Max and min position x\n",
    "# max_x = np.ceil(max(File_data[:,2]))\n",
    "# min_x = np.floor(min(File_data[:,2]))\n",
    "# mean_x = (max_x+min_x)/2\n",
    "\n",
    "# var_x = ((max_x-min_x)**2)/12\n",
    "\n",
    "\n",
    "# #Max and min position y\n",
    "# max_y = np.ceil(max(File_data[:,4]))\n",
    "# min_y = np.floor(min(File_data[:,4]))\n",
    "# mean_y = (max_y+min_y)/2\n",
    "\n",
    "# var_y = ((max_y-min_y)**2)/12\n",
    "\n",
    "\n",
    "# #Average person's walking speed (3ph = 1.34112 m/s) and a normal distribution\n",
    "# mean_vx = 1.34112\n",
    "# vx_sigma = 1.34112/3\n",
    "# vx_variance = vx_sigma**2\n",
    "\n",
    "# mean_vy = 1.34112\n",
    "# vy_sigma = 1.34112/3\n",
    "# vy_variance = vy_sigma**2"
   ]
  },
  {
   "cell_type": "markdown",
   "id": "94fdc83e-2cd9-4b3d-b442-30236018005a",
   "metadata": {},
   "source": [
    "#### NOTE: USING MARCUS's pos_process_std = 0.2  , vel_process_std = 0.1 settings"
   ]
  },
  {
   "cell_type": "code",
   "execution_count": 171,
   "id": "539a7c41-3224-4c41-9888-64d0332b832f",
   "metadata": {},
   "outputs": [],
   "source": [
    "vardict_NoisyMoreThan20Data ={}\n",
    "for i in MoreThan20Data_Pedestrian_list:\n",
    "    vardict_NoisyMoreThan20Data[i] = {}\n",
    "    ref = NoisyMoreThan20Data_df[NoisyMoreThan20Data_df[\"Pedestrian_ID\"]==i].copy(deep=True).reset_index(drop=True).var()\n",
    "    vardict_NoisyMoreThan20Data[i]['X_Pos'] = ref['X_Pos']\n",
    "    vardict_NoisyMoreThan20Data[i]['Y_Pos'] = ref['Y_Pos']\n",
    "    vardict_NoisyMoreThan20Data[i]['X_Vel'] = ref['X_Vel']\n",
    "    vardict_NoisyMoreThan20Data[i]['Y_Vel'] = ref['Y_Vel']\n",
    "    "
   ]
  },
  {
   "cell_type": "code",
   "execution_count": 172,
   "id": "11dd1df3-e4f0-493a-8466-f26c3cbf73be",
   "metadata": {},
   "outputs": [],
   "source": [
    "import numpy as np\n",
    "from filterpy.kalman import KalmanFilter\n",
    "from filterpy.common import Q_discrete_white_noise\n",
    "\n",
    "d_t = 0.24 #Assume 1st Time Step (6 frames with 25 FPS) is 0.24 seconds\n",
    "\n",
    "# Transition Matrix / Function\n",
    "State_Transition_Matrix = np.array([[1, d_t, 0, 0],\n",
    "                                    [0, 1, 0, 0],\n",
    "                                    [0, 0, 1, d_t],\n",
    "                                    [0, 0, 0, 1]])\n",
    "\n",
    "# Measurement / Emission Funxction\n",
    "Measurement_Function = np.array([[1, 0, 0, 0],\n",
    "                                 [0, 1, 0, 0],\n",
    "                                 [0, 0, 1, 0],\n",
    "                                 [0, 0, 0, 1]])\n",
    "# Initial State Mean and Covariance\n",
    "# Initial_State = np.array([mean_x, mean_vx, mean_y, mean_vy])\n",
    "# Covariance_Matrix = np.diag([var_x, vx_variance ,var_y,vy_variance])\n",
    "\n",
    "#Environment Noise (Friction Air resistane) NOTE!!!!!!!!!!\n",
    "pos_process_std = 0.2 \n",
    "vel_process_std = 0.1\n",
    "Process_Noise = np.diag([pos_process_std**2, vel_process_std**2, \n",
    "                         pos_process_std**2, vel_process_std**2])\n",
    "\n",
    "#Sensor Noise\n",
    "Measurement_Noise = np.array([[pos_sensor_std**2, 0,0,0],[0, vel_sensor_std**2,0,0], [0,0, pos_sensor_std**2,0],[0, 0,0,vel_sensor_std**2]])\n",
    "\n",
    "\n",
    "def KF_model_evaluator_V2(State_Transition_Matrix,Measurement_Function,Process_Noise,vardict_NoisyMoreThan20Data,Measurement_Noise):\n",
    "    total_noisy_observations =[]\n",
    "    total_KF_predict = []\n",
    "    total_groundtruth_list = []\n",
    "    kf_cov_list=[]\n",
    "    \n",
    "    for i in MoreThan20Data_Pedestrian_list:\n",
    "\n",
    "        Covariance_Matrix = np.diag([vardict_NoisyMoreThan20Data[i]['X_Pos'],\n",
    "                                     vardict_NoisyMoreThan20Data[i]['X_Vel'],\n",
    "                                     vardict_NoisyMoreThan20Data[i]['Y_Pos'],\n",
    "                                     vardict_NoisyMoreThan20Data[i]['Y_Vel']])\n",
    "        \n",
    "        noisy_ref_pedestrian_df = NoisyMoreThan20Data_df[NoisyMoreThan20Data_df[\"Pedestrian_ID\"]==i].copy(deep=True).reset_index(drop=True)\n",
    "        ref_pedestrian_df = MoreThan20Data_df[MoreThan20Data_df[\"Pedestrian_ID\"]==i].copy(deep=True).reset_index(drop=True)\n",
    "        # print(\"Initial_VELOCITY_State[0] :\",Initial_VELOCITY_State[0])\n",
    "        noisy_ref_pedestrian_df = noisy_ref_pedestrian_df.sort_values(by = ['Time (s)']).reset_index(drop = True)\n",
    "        ref_pedestrian_df = ref_pedestrian_df.sort_values(by = ['Time (s)']).reset_index(drop = True)                                                              \n",
    "        Initial_State = np.array([noisy_ref_pedestrian_df.loc[0,\"X_Pos\"] ,noisy_ref_pedestrian_df.loc[0,\"X_Vel\"],noisy_ref_pedestrian_df.loc[0,\"Y_Pos\"] ,noisy_ref_pedestrian_df.loc[0,\"Y_Vel\"]])\n",
    "    \n",
    "        \n",
    "        # Initialize the Kalman Filter\n",
    "        kf = KalmanFilter(dim_x=4, dim_z=4)\n",
    "        d_t = 0.24\n",
    "        # State Transition Matrix (We design)\n",
    "        kf.F = State_Transition_Matrix\n",
    "        # Measurement Function (We design)\n",
    "        kf.H = Measurement_Function\n",
    "        # Initial State (We design)\n",
    "        kf.x = Initial_State  # [x, vx, y, vy]\n",
    "        # Covariance Matrix (We design)\n",
    "        kf.P =Covariance_Matrix\n",
    "        # Process Noise (We fine tune)\n",
    "        kf.Q = Process_Noise\n",
    "        # Measurement Noise (We fix as constant / fine tune )?\n",
    "        kf.R = Measurement_Noise\n",
    "        # Observations\n",
    "        noisy_observations = []\n",
    "\n",
    "        #Get noisy observations\n",
    "        for i in range(len(noisy_ref_pedestrian_df)):\n",
    "            ref = [noisy_ref_pedestrian_df.loc[i,\"X_Pos\"],noisy_ref_pedestrian_df.loc[i,\"X_Vel\"],noisy_ref_pedestrian_df.loc[i,\"Y_Pos\"],noisy_ref_pedestrian_df.loc[i,\"Y_Vel\"]]\n",
    "            noisy_observations.append(ref)\n",
    "        total_noisy_observations.extend(noisy_observations)\n",
    "        noisy_observations = np.array(noisy_observations)\n",
    "        \n",
    "        #Get ground truth observations\n",
    "        groundtruth_observations = []\n",
    "        for i in range(len(ref_pedestrian_df)):\n",
    "            ref = [ref_pedestrian_df.loc[i,\"X_Pos\"],ref_pedestrian_df.loc[i,\"X_Vel\"],ref_pedestrian_df.loc[i,\"Y_Pos\"],ref_pedestrian_df.loc[i,\"Y_Vel\"]]\n",
    "            groundtruth_observations.append(ref)\n",
    "        total_groundtruth_list.extend(groundtruth_observations)\n",
    "        \n",
    "        # Update loop\n",
    "        #Get KF Predicted observations\n",
    "        xs, cov,kf_predict=[], [], []\n",
    "        for obs_i in range(len(noisy_observations)):\n",
    "            if obs_i == 0:\n",
    "                ref = [kf.x[0],kf.x[1],kf.x[2],kf.x[3]]\n",
    "                kf_predict.append(ref)\n",
    "                xs.append(kf.x)\n",
    "                cov.append((i,obs_i))\n",
    "                continue\n",
    "                \n",
    "            if obs_i != 0:\n",
    "                d_t = noisy_ref_pedestrian_df.loc[i,\"Time (s)\"]-noisy_ref_pedestrian_df.loc[i-1,\"Time (s)\"]\n",
    "            else:\n",
    "                d_t = 0.24 #ASSUME 1st Time Step is 0.24 seconds\n",
    "            kf.F = np.array([[1, d_t, 0, 0], \n",
    "                         [0, 1, 0, 0], \n",
    "                         [0, 0, 1, d_t], \n",
    "                         [0, 0, 0, 1]])\n",
    "            kf.H = Measurement_Function\n",
    "            kf.predict()\n",
    "            kf.update(noisy_observations[obs_i])\n",
    "            ref = [kf.x[0],kf.x[1],kf.x[2],kf.x[3]]\n",
    "            kf_predict.append(ref)\n",
    "            cov.append((kf.P,i))\n",
    "        total_KF_predict.extend(kf_predict)\n",
    "        kf_cov_list.extend(cov)\n",
    "        \n",
    "        # xs, cov = np.array(xs), np.array(cov)\n",
    "        \n",
    "    total_noisy_observations = np.array(total_noisy_observations)\n",
    "    total_KF_predict = np.array(total_KF_predict)\n",
    "    total_groundtruth_list = np.array(total_groundtruth_list)\n",
    "    return total_groundtruth_list,total_noisy_observations,total_KF_predict,kf_cov_list"
   ]
  },
  {
   "cell_type": "markdown",
   "id": "d3fe8c74-6069-4ae0-a749-7aecd24017ff",
   "metadata": {},
   "source": [
    "### Evaluation of the BaseLine Model V2 (Using Pedestrian's 1st Noisy Data Point as initial position)"
   ]
  },
  {
   "cell_type": "code",
   "execution_count": 173,
   "id": "a7405594-585f-4e2f-af68-929f90f74132",
   "metadata": {},
   "outputs": [
    {
     "name": "stdout",
     "output_type": "stream",
     "text": [
      "----------------------------------------------------------------\n",
      "Mean Euclidean Distance Error for Noisy Data X/Y Positions:  0.3755\n",
      "Mean Euclidean Distance Error for Kalman Filter Data X/Y Positions:  0.29794\n",
      "----------------------------------------------------------------\n",
      "Mean Euclidean Velocity Error for Noisy Data X/Y Velocities:  0.562\n",
      "Mean Euclidean Velocity Error for Kalman Filter Data X/Y Velocities:  0.30729\n",
      "----------------------------------------------------------------\n",
      "SUM of Euclidean Position + Velocity for Kalman Filter 0.60523\n",
      "SUM of Euclidean Position + Velocity for Noisy Data 0.9375\n"
     ]
    }
   ],
   "source": [
    "total_groundtruth_list,total_noisy_observations,total_KF_predict,kf_cov_list = KF_model_evaluator_V2(State_Transition_Matrix,\n",
    "                                                                                                     Measurement_Function,\n",
    "                                                                                                     Process_Noise,\n",
    "                                                                                                     vardict_NoisyMoreThan20Data,\n",
    "                                                                                                     Measurement_Noise)\n",
    "\n",
    "ed_pos_clean_noisy = np.sqrt(((total_groundtruth_list[:,0]-total_noisy_observations[:,0])**2)+((total_groundtruth_list[:,2]-total_noisy_observations[:,2])**2))\n",
    "ed_pos_clean_kf = np.flip(np.sqrt(((total_groundtruth_list[:,0]-total_KF_predict[:,0])**2)+((total_groundtruth_list[:,2]-total_KF_predict[:,2])**2)))\n",
    "print(\"----------------------------------------------------------------\")\n",
    "print(\"Mean Euclidean Distance Error for Noisy Data X/Y Positions: \",round(np.mean(ed_pos_clean_noisy),5) )\n",
    "print(\"Mean Euclidean Distance Error for Kalman Filter Data X/Y Positions: \",round(np.mean(ed_pos_clean_kf),5) )\n",
    "\n",
    "ed_vel_clean_noisy = np.sqrt(((total_groundtruth_list[:,1]-total_noisy_observations[:,1])**2)+((total_groundtruth_list[:,3]-total_noisy_observations[:,3])**2))\n",
    "ed_vel_clean_kf = np.flip(np.sqrt(((total_groundtruth_list[:,1]-total_KF_predict[:,1])**2)+((total_groundtruth_list[:,3]-total_KF_predict[:,3])**2)))\n",
    "print(\"----------------------------------------------------------------\")\n",
    "print(\"Mean Euclidean Velocity Error for Noisy Data X/Y Velocities: \",round(np.mean(ed_vel_clean_noisy),5) )\n",
    "print(\"Mean Euclidean Velocity Error for Kalman Filter Data X/Y Velocities: \",round(np.mean(ed_vel_clean_kf),5) )\n",
    "\n",
    "baseline_sum = np.mean(ed_pos_clean_kf) + np.mean(ed_vel_clean_kf)\n",
    "noisy_sum =  np.mean(ed_pos_clean_noisy) + np.mean(ed_vel_clean_noisy)\n",
    "print(\"----------------------------------------------------------------\")\n",
    "print(\"SUM of Euclidean Position + Velocity for Kalman Filter\", round(baseline_sum,5))\n",
    "print(\"SUM of Euclidean Position + Velocity for Noisy Data\", round(noisy_sum,5))"
   ]
  },
  {
   "cell_type": "markdown",
   "id": "3ab9c9d1-5dbd-4810-a54c-8ffff82e94ca",
   "metadata": {},
   "source": [
    "## Modelling BASELINE process noise"
   ]
  },
  {
   "cell_type": "markdown",
   "id": "6301bcc9-b7de-4bbe-b2a9-bce5820ccdf9",
   "metadata": {},
   "source": [
    "#### We first get the Difference between the predicted time step velocity/position and the actual time step velocity/position (Not using KF model but just using the kinematic eqs)\n",
    "\n",
    "#### Error_X_Pos / Error_Y_Pos = Actual X/Y Pos - (Prev X/Y Pos + Prev X/Y velocity * Time Delta)\n",
    "#### Error_X_Vel / Error_Y_Vel = Actual X/Y Velocity - Prev X/Y Velocity\n"
   ]
  },
  {
   "cell_type": "code",
   "execution_count": 174,
   "id": "322670bb-60b0-4c31-981c-d61d339f6da2",
   "metadata": {},
   "outputs": [],
   "source": [
    "OPN_noisy_pedestrian_df = NoisyMoreThan20Data_df.copy(deep=True).reset_index(drop=True)\n",
    "\n",
    "extra_cols = [\"Error_X_Pos\",\n",
    "              \"Error_Y_Pos\",\n",
    "              \"Error_X_Vel\",\n",
    "              \"Error_Y_Vel\",\n",
    "             ]\n",
    "\n",
    "end_index = len(OPN_noisy_pedestrian_df.columns)\n",
    "\n",
    "for i in extra_cols:\n",
    "    OPN_noisy_pedestrian_df.insert(end_index, i,0)\n",
    "    end_index+=1\n",
    "\n",
    "filled_total_noisy_ped_df = pd.DataFrame(columns=list(OPN_noisy_pedestrian_df.columns))\n",
    "\n",
    "for i in list(OPN_noisy_pedestrian_df.columns):\n",
    "    filled_total_noisy_ped_df[i]= filled_total_noisy_ped_df[i].astype(float)\n",
    "\n",
    "for i in list(OPN_noisy_pedestrian_df.columns):\n",
    "    OPN_noisy_pedestrian_df[i]= OPN_noisy_pedestrian_df[i].astype(float)"
   ]
  },
  {
   "cell_type": "code",
   "execution_count": 175,
   "id": "c0c0a28d-a7b3-4e7d-88cb-744e7590d611",
   "metadata": {},
   "outputs": [],
   "source": [
    "for i in MoreThan20Data_Pedestrian_list:\n",
    "    \n",
    "    noisy_ped_df = OPN_noisy_pedestrian_df[OPN_noisy_pedestrian_df[\"Pedestrian_ID\"]==i].copy(deep=True).reset_index(drop=True)\n",
    "    noisy_ped_df = noisy_ped_df.sort_values(by=['Time (s)'])\n",
    "\n",
    "    for j in range(len(noisy_ped_df)):\n",
    "        if j ==0:\n",
    "            continue\n",
    "\n",
    "        noisy_ped_df.loc[j,\"Error_X_Pos\"] = noisy_ped_df.loc[j,\"X_Pos\"] - (noisy_ped_df.loc[j-1,\"X_Pos\"]+(noisy_ped_df.loc[j-1,\"X_Vel\"]*(noisy_ped_df.loc[j,\"Time (s)\"]-noisy_ped_df.loc[j-1,\"Time (s)\"])))\n",
    "        noisy_ped_df.loc[j,\"Error_Y_Pos\"] = noisy_ped_df.loc[j,\"Y_Pos\"] - (noisy_ped_df.loc[j-1,\"Y_Pos\"]+(noisy_ped_df.loc[j-1,\"Y_Vel\"]*(noisy_ped_df.loc[j,\"Time (s)\"]-noisy_ped_df.loc[j-1,\"Time (s)\"])))\n",
    "        noisy_ped_df.loc[j,\"Error_X_Vel\"] = noisy_ped_df.loc[j,\"X_Vel\"] - noisy_ped_df.loc[j-1,\"X_Vel\"]\n",
    "        noisy_ped_df.loc[j,\"Error_Y_Vel\"] = noisy_ped_df.loc[j,\"Y_Vel\"] - noisy_ped_df.loc[j-1,\"Y_Vel\"]\n",
    "\n",
    "    filled_total_noisy_ped_df = pd.concat([filled_total_noisy_ped_df, noisy_ped_df], ignore_index=True, axis=0)\n"
   ]
  },
  {
   "cell_type": "code",
   "execution_count": 176,
   "id": "650aee8c-1998-49c9-a538-9ac143b61d17",
   "metadata": {},
   "outputs": [
    {
     "data": {
      "text/html": [
       "<div>\n",
       "<style scoped>\n",
       "    .dataframe tbody tr th:only-of-type {\n",
       "        vertical-align: middle;\n",
       "    }\n",
       "\n",
       "    .dataframe tbody tr th {\n",
       "        vertical-align: top;\n",
       "    }\n",
       "\n",
       "    .dataframe thead th {\n",
       "        text-align: right;\n",
       "    }\n",
       "</style>\n",
       "<table border=\"1\" class=\"dataframe\">\n",
       "  <thead>\n",
       "    <tr style=\"text-align: right;\">\n",
       "      <th></th>\n",
       "      <th>Time (s)</th>\n",
       "      <th>Pedestrian_ID</th>\n",
       "      <th>X_Pos</th>\n",
       "      <th>Y_Pos</th>\n",
       "      <th>X_Vel</th>\n",
       "      <th>Y_Vel</th>\n",
       "      <th>Error_X_Pos</th>\n",
       "      <th>Error_Y_Pos</th>\n",
       "      <th>Error_X_Vel</th>\n",
       "      <th>Error_Y_Vel</th>\n",
       "    </tr>\n",
       "  </thead>\n",
       "  <tbody>\n",
       "    <tr>\n",
       "      <th>0</th>\n",
       "      <td>324.60</td>\n",
       "      <td>171.0</td>\n",
       "      <td>-0.865611</td>\n",
       "      <td>8.897479</td>\n",
       "      <td>-0.047307</td>\n",
       "      <td>0.137823</td>\n",
       "      <td>0.000000</td>\n",
       "      <td>0.000000</td>\n",
       "      <td>0.000000</td>\n",
       "      <td>0.000000</td>\n",
       "    </tr>\n",
       "    <tr>\n",
       "      <th>1</th>\n",
       "      <td>324.84</td>\n",
       "      <td>171.0</td>\n",
       "      <td>-0.611197</td>\n",
       "      <td>8.376013</td>\n",
       "      <td>-0.069406</td>\n",
       "      <td>-0.412108</td>\n",
       "      <td>0.265767</td>\n",
       "      <td>-0.554544</td>\n",
       "      <td>-0.022099</td>\n",
       "      <td>-0.549931</td>\n",
       "    </tr>\n",
       "    <tr>\n",
       "      <th>2</th>\n",
       "      <td>325.08</td>\n",
       "      <td>171.0</td>\n",
       "      <td>-1.094691</td>\n",
       "      <td>7.910638</td>\n",
       "      <td>0.071562</td>\n",
       "      <td>-0.757623</td>\n",
       "      <td>-0.466836</td>\n",
       "      <td>-0.366468</td>\n",
       "      <td>0.140968</td>\n",
       "      <td>-0.345515</td>\n",
       "    </tr>\n",
       "    <tr>\n",
       "      <th>3</th>\n",
       "      <td>325.32</td>\n",
       "      <td>171.0</td>\n",
       "      <td>-1.026734</td>\n",
       "      <td>8.542432</td>\n",
       "      <td>-1.124868</td>\n",
       "      <td>-0.191429</td>\n",
       "      <td>0.050782</td>\n",
       "      <td>0.813624</td>\n",
       "      <td>-1.196430</td>\n",
       "      <td>0.566194</td>\n",
       "    </tr>\n",
       "    <tr>\n",
       "      <th>4</th>\n",
       "      <td>325.56</td>\n",
       "      <td>171.0</td>\n",
       "      <td>-0.637461</td>\n",
       "      <td>8.290462</td>\n",
       "      <td>-0.555210</td>\n",
       "      <td>0.038507</td>\n",
       "      <td>0.659241</td>\n",
       "      <td>-0.206028</td>\n",
       "      <td>0.569658</td>\n",
       "      <td>0.229936</td>\n",
       "    </tr>\n",
       "    <tr>\n",
       "      <th>...</th>\n",
       "      <td>...</td>\n",
       "      <td>...</td>\n",
       "      <td>...</td>\n",
       "      <td>...</td>\n",
       "      <td>...</td>\n",
       "      <td>...</td>\n",
       "      <td>...</td>\n",
       "      <td>...</td>\n",
       "      <td>...</td>\n",
       "      <td>...</td>\n",
       "    </tr>\n",
       "    <tr>\n",
       "      <th>7758</th>\n",
       "      <td>90.96</td>\n",
       "      <td>45.0</td>\n",
       "      <td>2.344922</td>\n",
       "      <td>3.167692</td>\n",
       "      <td>-1.585358</td>\n",
       "      <td>-0.252223</td>\n",
       "      <td>-0.433205</td>\n",
       "      <td>-0.515179</td>\n",
       "      <td>-0.770689</td>\n",
       "      <td>0.399372</td>\n",
       "    </tr>\n",
       "    <tr>\n",
       "      <th>7759</th>\n",
       "      <td>91.20</td>\n",
       "      <td>45.0</td>\n",
       "      <td>1.722969</td>\n",
       "      <td>3.750579</td>\n",
       "      <td>-1.318388</td>\n",
       "      <td>-0.098225</td>\n",
       "      <td>-0.241467</td>\n",
       "      <td>0.643420</td>\n",
       "      <td>0.266970</td>\n",
       "      <td>0.153998</td>\n",
       "    </tr>\n",
       "    <tr>\n",
       "      <th>7760</th>\n",
       "      <td>91.44</td>\n",
       "      <td>45.0</td>\n",
       "      <td>1.075394</td>\n",
       "      <td>3.830068</td>\n",
       "      <td>-1.095426</td>\n",
       "      <td>-0.651590</td>\n",
       "      <td>-0.331162</td>\n",
       "      <td>0.103063</td>\n",
       "      <td>0.222962</td>\n",
       "      <td>-0.553366</td>\n",
       "    </tr>\n",
       "    <tr>\n",
       "      <th>7761</th>\n",
       "      <td>91.68</td>\n",
       "      <td>45.0</td>\n",
       "      <td>-0.037570</td>\n",
       "      <td>3.800533</td>\n",
       "      <td>-0.528642</td>\n",
       "      <td>0.422559</td>\n",
       "      <td>-0.850062</td>\n",
       "      <td>0.126846</td>\n",
       "      <td>0.566784</td>\n",
       "      <td>1.074149</td>\n",
       "    </tr>\n",
       "    <tr>\n",
       "      <th>7762</th>\n",
       "      <td>91.92</td>\n",
       "      <td>45.0</td>\n",
       "      <td>-0.776198</td>\n",
       "      <td>3.339691</td>\n",
       "      <td>-1.684888</td>\n",
       "      <td>-0.609543</td>\n",
       "      <td>-0.611753</td>\n",
       "      <td>-0.562255</td>\n",
       "      <td>-1.156247</td>\n",
       "      <td>-1.032101</td>\n",
       "    </tr>\n",
       "  </tbody>\n",
       "</table>\n",
       "<p>7763 rows × 10 columns</p>\n",
       "</div>"
      ],
      "text/plain": [
       "      Time (s)  Pedestrian_ID     X_Pos     Y_Pos     X_Vel     Y_Vel  \\\n",
       "0       324.60          171.0 -0.865611  8.897479 -0.047307  0.137823   \n",
       "1       324.84          171.0 -0.611197  8.376013 -0.069406 -0.412108   \n",
       "2       325.08          171.0 -1.094691  7.910638  0.071562 -0.757623   \n",
       "3       325.32          171.0 -1.026734  8.542432 -1.124868 -0.191429   \n",
       "4       325.56          171.0 -0.637461  8.290462 -0.555210  0.038507   \n",
       "...        ...            ...       ...       ...       ...       ...   \n",
       "7758     90.96           45.0  2.344922  3.167692 -1.585358 -0.252223   \n",
       "7759     91.20           45.0  1.722969  3.750579 -1.318388 -0.098225   \n",
       "7760     91.44           45.0  1.075394  3.830068 -1.095426 -0.651590   \n",
       "7761     91.68           45.0 -0.037570  3.800533 -0.528642  0.422559   \n",
       "7762     91.92           45.0 -0.776198  3.339691 -1.684888 -0.609543   \n",
       "\n",
       "      Error_X_Pos  Error_Y_Pos  Error_X_Vel  Error_Y_Vel  \n",
       "0        0.000000     0.000000     0.000000     0.000000  \n",
       "1        0.265767    -0.554544    -0.022099    -0.549931  \n",
       "2       -0.466836    -0.366468     0.140968    -0.345515  \n",
       "3        0.050782     0.813624    -1.196430     0.566194  \n",
       "4        0.659241    -0.206028     0.569658     0.229936  \n",
       "...           ...          ...          ...          ...  \n",
       "7758    -0.433205    -0.515179    -0.770689     0.399372  \n",
       "7759    -0.241467     0.643420     0.266970     0.153998  \n",
       "7760    -0.331162     0.103063     0.222962    -0.553366  \n",
       "7761    -0.850062     0.126846     0.566784     1.074149  \n",
       "7762    -0.611753    -0.562255    -1.156247    -1.032101  \n",
       "\n",
       "[7763 rows x 10 columns]"
      ]
     },
     "execution_count": 176,
     "metadata": {},
     "output_type": "execute_result"
    }
   ],
   "source": [
    "filled_total_noisy_ped_df"
   ]
  },
  {
   "cell_type": "markdown",
   "id": "a33a1942-35a2-45af-80b8-4a71fda6f27e",
   "metadata": {},
   "source": [
    "### Now we get the Process Noise Standard Deviation given Mean is 0"
   ]
  },
  {
   "cell_type": "code",
   "execution_count": 177,
   "id": "8590e6cb-3226-4823-9e4b-6aecab10134f",
   "metadata": {},
   "outputs": [
    {
     "name": "stdout",
     "output_type": "stream",
     "text": [
      "X_Pos_std : 0.48456\n",
      "Y_Pos_std : 0.4418\n",
      "X_Vel_std : 0.64437\n",
      "Y_Vel_std : 0.63931\n"
     ]
    }
   ],
   "source": [
    "# Getting X_Pos_std given MEAN is 0\n",
    "sum =0\n",
    "for i in filled_total_noisy_ped_df[\"Error_X_Pos\"]:\n",
    "    sum+=((i)**2)\n",
    "X_Pos_std = math.sqrt(sum/(filled_total_noisy_ped_df.shape[0]-1))\n",
    "\n",
    "# Getting Y_Pos_std given MEAN is 0\n",
    "sum =0\n",
    "for i in filled_total_noisy_ped_df[\"Error_Y_Pos\"]:\n",
    "    sum+=((i)**2)\n",
    "Y_Pos_std = math.sqrt(sum/(filled_total_noisy_ped_df.shape[0]-1)) \n",
    "\n",
    "# Getting X_Vel_std given MEAN is 0\n",
    "sum =0\n",
    "for i in filled_total_noisy_ped_df[\"Error_X_Vel\"]:\n",
    "    sum+=((i)**2)\n",
    "X_Vel_std = math.sqrt(sum/(filled_total_noisy_ped_df.shape[0]-1)) \n",
    "\n",
    "# Getting Y_Vel_std given MEAN is 0\n",
    "sum =0\n",
    "for i in filled_total_noisy_ped_df[\"Error_Y_Vel\"]:\n",
    "    sum+=((i)**2)\n",
    "Y_Vel_std = math.sqrt(sum/(filled_total_noisy_ped_df.shape[0]-1)) \n",
    "\n",
    "print(\"X_Pos_std :\",round(X_Pos_std,5))\n",
    "print(\"Y_Pos_std :\",round(Y_Pos_std,5))\n",
    "print(\"X_Vel_std :\",round(X_Vel_std,5))\n",
    "print(\"Y_Vel_std :\",round(Y_Vel_std,5))"
   ]
  },
  {
   "cell_type": "markdown",
   "id": "d95a1f27-cd3e-469c-ab9e-212adfcbc14a",
   "metadata": {},
   "source": [
    "### Testing BaseLine Process Noise Kalman Filter"
   ]
  },
  {
   "cell_type": "code",
   "execution_count": 178,
   "id": "3d3b2ad7-69fb-426f-8389-2e1142b3e96b",
   "metadata": {},
   "outputs": [
    {
     "name": "stdout",
     "output_type": "stream",
     "text": [
      "X_Pos_std : 0.48456\n",
      "Y_Pos_std : 0.4418\n",
      "X_Vel_std : 0.64437\n",
      "Y_Vel_std : 0.63931\n"
     ]
    }
   ],
   "source": [
    "print(\"X_Pos_std :\",round(X_Pos_std,5))\n",
    "print(\"Y_Pos_std :\",round(Y_Pos_std,5))\n",
    "print(\"X_Vel_std :\",round(X_Vel_std,5))\n",
    "print(\"Y_Vel_std :\",round(Y_Vel_std,5))"
   ]
  },
  {
   "cell_type": "code",
   "execution_count": 179,
   "id": "a99d6159-bc18-43e3-a89f-2a084ca4e081",
   "metadata": {},
   "outputs": [],
   "source": [
    "BASELINE_X_Pos_std  = X_Pos_std \n",
    "BASELINE_Y_Pos_std  = Y_Pos_std  \n",
    "BASELINE_X_Vel_std  = X_Vel_std \n",
    "BASELINE_Y_Vel_std  = Y_Vel_std "
   ]
  },
  {
   "cell_type": "code",
   "execution_count": 180,
   "id": "e0d2b386-993d-434b-8941-8a883b61bb6c",
   "metadata": {},
   "outputs": [],
   "source": [
    "import numpy as np\n",
    "from filterpy.kalman import KalmanFilter\n",
    "from filterpy.common import Q_discrete_white_noise\n",
    "\n",
    "d_t = 0.24 #ASSUME 1st Time Step (6 frames with 25 fps) is 0.24 seconds\n",
    "\n",
    "# Transition Matrix / Function\n",
    "State_Transition_Matrix = np.array([[1, d_t, 0, 0],\n",
    "                                    [0, 1, 0, 0],\n",
    "                                    [0, 0, 1, d_t],\n",
    "                                    [0, 0, 0, 1]])\n",
    "\n",
    "# Measurement / Emission Funxction\n",
    "Measurement_Function = np.array([[1, 0, 0, 0],\n",
    "                                 [0, 1, 0, 0],\n",
    "                                 [0, 0, 1, 0],\n",
    "                                 [0, 0, 0, 1]])\n",
    "\n",
    "# # Initial Covariance\n",
    "# Covariance_Matrix = np.diag([var_x, vx_variance ,var_y,vy_variance])\n",
    "\n",
    "Process_Noise = np.diag([BASELINE_X_Pos_std **2, BASELINE_X_Vel_std **2,\n",
    "                         BASELINE_Y_Pos_std **2, BASELINE_Y_Vel_std  **2])\n",
    "\n",
    "#Sensor Noise\n",
    "Measurement_Noise = np.array([[pos_sensor_std**2, 0,0,0],[0, vel_sensor_std**2,0,0], [0,0, pos_sensor_std**2,0],[0, 0,0,vel_sensor_std**2]])\n"
   ]
  },
  {
   "cell_type": "code",
   "execution_count": 181,
   "id": "50c03095-7a7c-4396-ab6d-e5692933d119",
   "metadata": {},
   "outputs": [
    {
     "name": "stdout",
     "output_type": "stream",
     "text": [
      "----------------------------------------------------------------\n",
      "Mean Euclidean Distance Error for Noisy Data X/Y Positions:  0.3755\n",
      "Mean Euclidean Distance Error for Kalman Filter Data X/Y Positions:  0.30641\n",
      "----------------------------------------------------------------\n",
      "Mean Euclidean Velocity Error for Noisy Data X/Y Velocities:  0.562\n",
      "Mean Euclidean Velocity Error for Kalman Filter Data X/Y Velocities:  0.43631\n",
      "----------------------------------------------------------------\n",
      "SUM of Euclidean Position + Velocity for Kalman Filter 0.74272\n",
      "SUM of Euclidean Position + Velocity for Noisy Data 0.9375\n"
     ]
    }
   ],
   "source": [
    "total_groundtruth_list,total_noisy_observations,total_KF_predict,kf_cov_list = KF_model_evaluator_V2(State_Transition_Matrix,\n",
    "                                                                                                     Measurement_Function,\n",
    "                                                                                                     Process_Noise,\n",
    "                                                                                                     vardict_NoisyMoreThan20Data,\n",
    "                                                                                                     Measurement_Noise)\n",
    "\n",
    "ed_pos_clean_noisy = np.sqrt(((total_groundtruth_list[:,0]-total_noisy_observations[:,0])**2)+((total_groundtruth_list[:,2]-total_noisy_observations[:,2])**2))\n",
    "ed_pos_clean_kf = np.flip(np.sqrt(((total_groundtruth_list[:,0]-total_KF_predict[:,0])**2)+((total_groundtruth_list[:,2]-total_KF_predict[:,2])**2)))\n",
    "print(\"----------------------------------------------------------------\")\n",
    "print(\"Mean Euclidean Distance Error for Noisy Data X/Y Positions: \",round(np.mean(ed_pos_clean_noisy),5))\n",
    "print(\"Mean Euclidean Distance Error for Kalman Filter Data X/Y Positions: \",round(np.mean(ed_pos_clean_kf),5))\n",
    "\n",
    "ed_vel_clean_noisy = np.sqrt(((total_groundtruth_list[:,1]-total_noisy_observations[:,1])**2)+((total_groundtruth_list[:,3]-total_noisy_observations[:,3])**2))\n",
    "ed_vel_clean_kf = np.flip(np.sqrt(((total_groundtruth_list[:,1]-total_KF_predict[:,1])**2)+((total_groundtruth_list[:,3]-total_KF_predict[:,3])**2)))\n",
    "print(\"----------------------------------------------------------------\")\n",
    "print(\"Mean Euclidean Velocity Error for Noisy Data X/Y Velocities: \",round(np.mean(ed_vel_clean_noisy),5))\n",
    "print(\"Mean Euclidean Velocity Error for Kalman Filter Data X/Y Velocities: \",round(np.mean(ed_vel_clean_kf),5))\n",
    "\n",
    "baseline_sum = np.mean(ed_pos_clean_kf) + np.mean(ed_vel_clean_kf)\n",
    "noisy_sum =  np.mean(ed_pos_clean_noisy) + np.mean(ed_vel_clean_noisy)\n",
    "print(\"----------------------------------------------------------------\")\n",
    "print(\"SUM of Euclidean Position + Velocity for Kalman Filter\", round(baseline_sum,5))\n",
    "print(\"SUM of Euclidean Position + Velocity for Noisy Data\", round(noisy_sum,5))"
   ]
  },
  {
   "cell_type": "markdown",
   "id": "b310c6fc-7c08-47e9-856d-e137e197e5e5",
   "metadata": {},
   "source": [
    "### Sensitivity Analysis"
   ]
  },
  {
   "cell_type": "markdown",
   "id": "4e5d8ea6-8815-48be-ad59-85a7f5af1c65",
   "metadata": {},
   "source": [
    "### Reduce each Process Noise STD by 10% and obtain the Change in SUM of Euclidean Position + Velocity Error"
   ]
  },
  {
   "cell_type": "code",
   "execution_count": 182,
   "id": "5ceeaf59-53cd-46e1-a836-a5accb81c17c",
   "metadata": {},
   "outputs": [],
   "source": [
    "Process_Noise_X_Pos = np.diag([(BASELINE_X_Pos_std*0.9) **2, BASELINE_X_Vel_std **2,\n",
    "                         BASELINE_Y_Pos_std **2, BASELINE_Y_Vel_std **2])\n",
    "\n",
    "Process_Noise_Y_Pos = np.diag([(BASELINE_X_Pos_std) **2, BASELINE_X_Vel_std **2,\n",
    "                         (BASELINE_Y_Pos_std*0.9) **2, BASELINE_Y_Vel_std **2])\n",
    "\n",
    "Process_Noise_X_Vel = np.diag([(BASELINE_X_Pos_std) **2, (BASELINE_X_Vel_std*0.9) **2,\n",
    "                         BASELINE_Y_Pos_std **2, BASELINE_Y_Vel_std **2])\n",
    "\n",
    "Process_Noise_Y_Vel = np.diag([(BASELINE_X_Pos_std) **2, BASELINE_X_Vel_std **2,\n",
    "                         BASELINE_Y_Pos_std **2, (BASELINE_Y_Vel_std*0.9) **2])                                                                                           "
   ]
  },
  {
   "cell_type": "code",
   "execution_count": 183,
   "id": "2de86858-adf8-4034-8d43-e1f9f7ee2a39",
   "metadata": {},
   "outputs": [
    {
     "name": "stdout",
     "output_type": "stream",
     "text": [
      "Process_Noise_X_Pos DELTA: -0.0020221\n",
      "Process_Noise_Y_Pos DELTA: -0.0041223\n",
      "Process_Noise_X_Vel DELTA: -0.0067218\n",
      "Process_Noise_Y_Vel DELTA: -0.0068528\n"
     ]
    }
   ],
   "source": [
    "Process_noise_list = [Process_Noise_X_Pos,Process_Noise_Y_Pos,Process_Noise_X_Vel,Process_Noise_Y_Vel]\n",
    "\n",
    "Process_Noise = np.diag([BASELINE_X_Pos_std **2, BASELINE_X_Vel_std **2,\n",
    "                         BASELINE_Y_Pos_std **2, BASELINE_Y_Vel_std  **2])\n",
    "\n",
    "total_groundtruth_list,total_noisy_observations,total_KF_predict,kf_cov_list = KF_model_evaluator_V2(State_Transition_Matrix,\n",
    "                                                                                                     Measurement_Function,\n",
    "                                                                                                     Process_Noise,\n",
    "                                                                                                     vardict_NoisyMoreThan20Data,\n",
    "                                                                                                     Measurement_Noise)\n",
    "\n",
    "# ed_pos_clean_noisy = np.sqrt(((total_groundtruth_list[:,0]-total_noisy_observations[:,0])**2)+((total_groundtruth_list[:,2]-total_noisy_observations[:,2])**2))\n",
    "ed_pos_clean_kf = np.flip(np.sqrt(((total_groundtruth_list[:,0]-total_KF_predict[:,0])**2)+((total_groundtruth_list[:,2]-total_KF_predict[:,2])**2)))\n",
    "# print(\"Mean Euclidean Distance Error for Noisy Data X/Y Positions: \",np.mean(ed_pos_clean_noisy) )\n",
    "# print(\"Mean Euclidean Distance Error for Kalman Filter Data X/Y Positions: \",np.mean(ed_pos_clean_kf) )\n",
    "\n",
    "# ed_vel_clean_noisy = np.sqrt(((total_groundtruth_list[:,1]-total_noisy_observations[:,1])**2)+((total_groundtruth_list[:,3]-total_noisy_observations[:,3])**2))\n",
    "ed_vel_clean_kf = np.flip(np.sqrt(((total_groundtruth_list[:,1]-total_KF_predict[:,1])**2)+((total_groundtruth_list[:,3]-total_KF_predict[:,3])**2)))\n",
    "# print(\"Mean Euclidean Velocity Error for Noisy Data X/Y Velocities: \",np.mean(ed_vel_clean_noisy) )\n",
    "# print(\"Mean Euclidean Velocity Error for Kalman Filter Data X/Y Velocities: \",np.mean(ed_vel_clean_kf) )\n",
    "original_ED_mean_sum = np.mean(ed_pos_clean_kf) + np.mean(ed_vel_clean_kf)\n",
    "\n",
    "sum_mean_ED_list = []\n",
    "\n",
    "for i in Process_noise_list:\n",
    "    total_groundtruth_list,total_noisy_observations,total_KF_predict,kf_cov_list = KF_model_evaluator_V2(State_Transition_Matrix,\n",
    "                                                                                                         Measurement_Function,\n",
    "                                                                                                         i,\n",
    "                                                                                                         vardict_NoisyMoreThan20Data,\n",
    "                                                                                                         Measurement_Noise)\n",
    "\n",
    "#     ed_pos_clean_noisy = np.sqrt(((total_groundtruth_list[:,0]-total_noisy_observations[:,0])**2)+((total_groundtruth_list[:,2]-total_noisy_observations[:,2])**2))\n",
    "    ed_pos_clean_kf = np.flip(np.sqrt(((total_groundtruth_list[:,0]-total_KF_predict[:,0])**2)+((total_groundtruth_list[:,2]-total_KF_predict[:,2])**2)))\n",
    "    \n",
    "#     ed_vel_clean_noisy = np.sqrt(((total_groundtruth_list[:,1]-total_noisy_observations[:,1])**2)+((total_groundtruth_list[:,3]-total_noisy_observations[:,3])**2))\n",
    "    \n",
    "    ed_vel_clean_kf = np.flip(np.sqrt(((total_groundtruth_list[:,1]-total_KF_predict[:,1])**2)+((total_groundtruth_list[:,3]-total_KF_predict[:,3])**2)))\n",
    "    sum_mean_ED = np.mean(ed_pos_clean_kf) + np.mean(ed_vel_clean_kf)\n",
    "    sum_mean_ED_list.append(sum_mean_ED)\n",
    "\n",
    "\n",
    "print(\"Process_Noise_X_Pos DELTA:\",round(sum_mean_ED_list[0]-original_ED_mean_sum,7))\n",
    "print(\"Process_Noise_Y_Pos DELTA:\",round(sum_mean_ED_list[1]-original_ED_mean_sum,7))\n",
    "print(\"Process_Noise_X_Vel DELTA:\",round(sum_mean_ED_list[2]-original_ED_mean_sum,7))\n",
    "print(\"Process_Noise_Y_Vel DELTA:\",round(sum_mean_ED_list[3]-original_ED_mean_sum,7))"
   ]
  },
  {
   "cell_type": "markdown",
   "id": "2df09869-fe32-46ee-85b5-747a905db618",
   "metadata": {},
   "source": [
    "### Increase each Process Noise STD by 10%"
   ]
  },
  {
   "cell_type": "code",
   "execution_count": 184,
   "id": "5aca0ba8-4f22-4f81-b81c-64a389a897a0",
   "metadata": {},
   "outputs": [],
   "source": [
    "Process_Noise_X_Pos = np.diag([(BASELINE_X_Pos_std*1.1) **2, BASELINE_X_Vel_std **2,\n",
    "                         BASELINE_Y_Pos_std **2, BASELINE_Y_Vel_std **2])\n",
    "\n",
    "Process_Noise_Y_Pos = np.diag([(BASELINE_X_Pos_std) **2, BASELINE_X_Vel_std **2,\n",
    "                         (BASELINE_Y_Pos_std*1.1) **2, BASELINE_Y_Vel_std **2])\n",
    "\n",
    "Process_Noise_X_Vel = np.diag([(BASELINE_X_Pos_std) **2, (BASELINE_X_Vel_std*1.1) **2,\n",
    "                         BASELINE_Y_Pos_std **2, BASELINE_Y_Vel_std **2])\n",
    "\n",
    "Process_Noise_Y_Vel = np.diag([(BASELINE_X_Pos_std) **2, BASELINE_X_Vel_std **2,\n",
    "                         BASELINE_Y_Pos_std **2, (BASELINE_Y_Vel_std*1.1) **2])       "
   ]
  },
  {
   "cell_type": "code",
   "execution_count": 185,
   "id": "0c7d4027-5972-49d9-91e7-46bd3e886bf4",
   "metadata": {},
   "outputs": [
    {
     "name": "stdout",
     "output_type": "stream",
     "text": [
      "Process_Noise_X_Pos DELTA: 0.0022099\n",
      "Process_Noise_Y_Pos DELTA: 0.0037385\n",
      "Process_Noise_X_Vel DELTA: 0.0060065\n",
      "Process_Noise_Y_Vel DELTA: 0.0061323\n"
     ]
    }
   ],
   "source": [
    "Process_noise_list = [Process_Noise_X_Pos,Process_Noise_Y_Pos,Process_Noise_X_Vel,Process_Noise_Y_Vel]\n",
    "\n",
    "Process_Noise = np.diag([BASELINE_X_Pos_std **2, BASELINE_X_Vel_std **2,\n",
    "                         BASELINE_Y_Pos_std **2, BASELINE_Y_Vel_std  **2])\n",
    "\n",
    "total_groundtruth_list,total_noisy_observations,total_KF_predict,kf_cov_list = KF_model_evaluator_V2(State_Transition_Matrix,\n",
    "                                                                                                     Measurement_Function,\n",
    "                                                                                                     Process_Noise,\n",
    "                                                                                                     vardict_NoisyMoreThan20Data,\n",
    "                                                                                                     Measurement_Noise)\n",
    "\n",
    " \n",
    "# ed_pos_clean_noisy = np.sqrt(((total_groundtruth_list[:,0]-total_noisy_observations[:,0])**2)+((total_groundtruth_list[:,2]-total_noisy_observations[:,2])**2))\n",
    "ed_pos_clean_kf = np.flip(np.sqrt(((total_groundtruth_list[:,0]-total_KF_predict[:,0])**2)+((total_groundtruth_list[:,2]-total_KF_predict[:,2])**2)))\n",
    "# print(\"Mean Euclidean Distance Error for Noisy Data X/Y Positions: \",np.mean(ed_pos_clean_noisy) )\n",
    "\n",
    "# print(\"Mean Euclidean Distance Error for Kalman Filter Data X/Y Positions: \",np.mean(ed_pos_clean_kf) )\n",
    "\n",
    "# ed_vel_clean_noisy = np.sqrt(((total_groundtruth_list[:,1]-total_noisy_observations[:,1])**2)+((total_groundtruth_list[:,3]-total_noisy_observations[:,3])**2))\n",
    "ed_vel_clean_kf = np.flip(np.sqrt(((total_groundtruth_list[:,1]-total_KF_predict[:,1])**2)+((total_groundtruth_list[:,3]-total_KF_predict[:,3])**2)))\n",
    "\n",
    "# print(\"Mean Euclidean Velocity Error for Noisy Data X/Y Velocities: \",np.mean(ed_vel_clean_noisy) )\n",
    "\n",
    "# print(\"Mean Euclidean Velocity Error for Kalman Filter Data X/Y Velocities: \",np.mean(ed_vel_clean_kf) )\n",
    "original_ED_mean_sum = np.mean(ed_pos_clean_kf) + np.mean(ed_vel_clean_kf)\n",
    "\n",
    "sum_mean_ED_list = []\n",
    "\n",
    "for i in Process_noise_list:\n",
    "    total_groundtruth_list,total_noisy_observations,total_KF_predict,kf_cov_list = KF_model_evaluator_V2(State_Transition_Matrix,\n",
    "                                                                                                         Measurement_Function,\n",
    "                                                                                                         i,\n",
    "                                                                                                         vardict_NoisyMoreThan20Data,\n",
    "                                                                                                         Measurement_Noise)\n",
    "\n",
    "#     ed_pos_clean_noisy = np.sqrt(((total_groundtruth_list[:,0]-total_noisy_observations[:,0])**2)+((total_groundtruth_list[:,2]-total_noisy_observations[:,2])**2))\n",
    "    ed_pos_clean_kf = np.flip(np.sqrt(((total_groundtruth_list[:,0]-total_KF_predict[:,0])**2)+((total_groundtruth_list[:,2]-total_KF_predict[:,2])**2)))\n",
    "#     ed_vel_clean_noisy = np.sqrt(((total_groundtruth_list[:,1]-total_noisy_observations[:,1])**2)+((total_groundtruth_list[:,3]-total_noisy_observations[:,3])**2))\n",
    "    ed_vel_clean_kf = np.flip(np.sqrt(((total_groundtruth_list[:,1]-total_KF_predict[:,1])**2)+((total_groundtruth_list[:,3]-total_KF_predict[:,3])**2)))\n",
    "    sum_mean_ED = np.mean(ed_pos_clean_kf) + np.mean(ed_vel_clean_kf)\n",
    "    sum_mean_ED_list.append(sum_mean_ED)\n",
    " \n",
    "\n",
    "print(\"Process_Noise_X_Pos DELTA:\",round(sum_mean_ED_list[0]-original_ED_mean_sum,7))\n",
    "print(\"Process_Noise_Y_Pos DELTA:\",round(sum_mean_ED_list[1]-original_ED_mean_sum,7))\n",
    "print(\"Process_Noise_X_Vel DELTA:\",round(sum_mean_ED_list[2]-original_ED_mean_sum,7))\n",
    "print(\"Process_Noise_Y_Vel DELTA:\",round(sum_mean_ED_list[3]-original_ED_mean_sum,7))"
   ]
  },
  {
   "cell_type": "markdown",
   "id": "d75c91b0-d287-45c1-a4a1-5e343d9c9ce3",
   "metadata": {},
   "source": [
    "### Observations: We want the Process Noise DELTA to decrease as that indicates that the Euclidean Distance Sum Error decreased, and we do\n",
    "### StepWise decrease change with the following process (In order of highest Process Noise Delta to lowest):\n",
    "### Process_Noise_Y_Vel > Process_Noise_X_Vel > Process_Noise_Y_Pos > Process_Noise_X_Pos (Reduce all by 5% at a time)"
   ]
  },
  {
   "cell_type": "markdown",
   "id": "a49bc9fe-d326-4bab-97f4-c1fd5d6b4cef",
   "metadata": {},
   "source": [
    "## StepWise Optimization"
   ]
  },
  {
   "cell_type": "code",
   "execution_count": 186,
   "id": "d9b4a81c-8564-4075-b15e-492d6a9fa75e",
   "metadata": {},
   "outputs": [
    {
     "name": "stdout",
     "output_type": "stream",
     "text": [
      "Mean Euclidean Distance Error for Kalman Filter Data X/Y Positions:  0.3064129\n",
      "Mean Euclidean Velocity Error for Kalman Filter Data X/Y Velocities:  0.4363068\n"
     ]
    },
    {
     "data": {
      "text/plain": [
       "0.7427196875404927"
      ]
     },
     "execution_count": 186,
     "metadata": {},
     "output_type": "execute_result"
    }
   ],
   "source": [
    "### BaseLine Process noise\n",
    "\n",
    "Process_Noise = np.diag([BASELINE_X_Pos_std **2, BASELINE_X_Vel_std **2,\n",
    "                         BASELINE_Y_Pos_std **2, (BASELINE_Y_Vel_std)  **2])\n",
    "\n",
    "total_groundtruth_list,total_noisy_observations,total_KF_predict,kf_cov_list = KF_model_evaluator_V2(State_Transition_Matrix,\n",
    "                                                                                                     Measurement_Function,\n",
    "                                                                                                     Process_Noise,\n",
    "                                                                                                     vardict_NoisyMoreThan20Data,\n",
    "                                                                                                     Measurement_Noise)\n",
    "\n",
    "ed_pos_clean_kf = np.flip(np.sqrt(((total_groundtruth_list[:,0]-total_KF_predict[:,0])**2)+((total_groundtruth_list[:,2]-total_KF_predict[:,2])**2)))\n",
    "print(\"Mean Euclidean Distance Error for Kalman Filter Data X/Y Positions: \",round(np.mean(ed_pos_clean_kf),7))\n",
    "\n",
    "ed_vel_clean_kf = np.flip(np.sqrt(((total_groundtruth_list[:,1]-total_KF_predict[:,1])**2)+((total_groundtruth_list[:,3]-total_KF_predict[:,3])**2)))\n",
    "print(\"Mean Euclidean Velocity Error for Kalman Filter Data X/Y Velocities: \",round(np.mean(ed_vel_clean_kf),7))\n",
    "\n",
    "current_sum_mean_ED =  np.mean(ed_pos_clean_kf) + np.mean(ed_vel_clean_kf)\n",
    "current_sum_mean_ED"
   ]
  },
  {
   "cell_type": "code",
   "execution_count": 187,
   "id": "436206f7-ee41-451f-85b6-40b2b62b2e47",
   "metadata": {},
   "outputs": [
    {
     "name": "stdout",
     "output_type": "stream",
     "text": [
      "Mean Euclidean Distance Error for Kalman Filter Data X/Y Positions:  0.3064129\n",
      "Mean Euclidean Velocity Error for Kalman Filter Data X/Y Velocities:  0.4363068\n",
      "i : 3\n",
      "i : 2\n",
      "i : 0\n",
      "i : 1\n",
      "Output : [[0.11450353 0.         0.         0.        ]\n",
      " [0.         0.01033637 0.         0.        ]\n",
      " [0.         0.         0.01223285 0.        ]\n",
      " [0.         0.         0.         0.01017467]]\n",
      "current_sum_mean_ED (Next Worse Iteration): 0.5596951805408785\n",
      "SUM of Euclidean Position  for Kalman Filter : 0.5596721057313367\n"
     ]
    }
   ],
   "source": [
    "output = 0\n",
    "loop_checker = True\n",
    "prev_Process_Noise = 0\n",
    "\n",
    "Process_Noise = np.diag([BASELINE_X_Pos_std **2, BASELINE_X_Vel_std **2,\n",
    "                         BASELINE_Y_Pos_std **2, BASELINE_Y_Vel_std  **2])\n",
    "\n",
    "total_groundtruth_list,total_noisy_observations,total_KF_predict,kf_cov_list = KF_model_evaluator_V2(State_Transition_Matrix,\n",
    "                                                                                                     Measurement_Function,\n",
    "                                                                                                     Process_Noise,\n",
    "                                                                                                     vardict_NoisyMoreThan20Data,\n",
    "                                                                                                     Measurement_Noise)\n",
    "\n",
    "ed_pos_clean_kf = np.flip(np.sqrt(((total_groundtruth_list[:,0]-total_KF_predict[:,0])**2)+((total_groundtruth_list[:,2]-total_KF_predict[:,2])**2)))\n",
    "print(\"Mean Euclidean Distance Error for Kalman Filter Data X/Y Positions: \",round(np.mean(ed_pos_clean_kf),7))\n",
    "\n",
    "ed_vel_clean_kf = np.flip(np.sqrt(((total_groundtruth_list[:,1]-total_KF_predict[:,1])**2)+((total_groundtruth_list[:,3]-total_KF_predict[:,3])**2)))\n",
    "print(\"Mean Euclidean Velocity Error for Kalman Filter Data X/Y Velocities: \",round(np.mean(ed_vel_clean_kf),7))\n",
    "\n",
    "current_sum_mean_ED = np.mean(ed_pos_clean_kf) + np.mean(ed_vel_clean_kf)\n",
    "current_Process_Noise = Process_Noise\n",
    "\n",
    "loop_dict ={\n",
    "    0:True,\n",
    "    1:True,\n",
    "    2:True,\n",
    "    3:True\n",
    "}\n",
    "\n",
    "X_Pos_std =BASELINE_X_Pos_std\n",
    "X_Vel_std =BASELINE_X_Vel_std\n",
    "Y_Pos_std =BASELINE_Y_Pos_std\n",
    "Y_Vel_std =BASELINE_Y_Vel_std\n",
    "\n",
    "Iteration_results =[]\n",
    "\n",
    "while loop_checker==True:\n",
    "    for i in range(4):\n",
    "        \n",
    "        prev_Process_Noise = current_Process_Noise\n",
    "        prev_sum_mean_ED = current_sum_mean_ED\n",
    "        # print(\"prev_sum_mean_ED :\",prev_sum_mean_ED)\n",
    "\n",
    "        \n",
    "        if i ==0 and loop_dict[0]==True:\n",
    "            Y_Vel_std = Y_Vel_std*0.95\n",
    "            \n",
    "        elif i ==1 and loop_dict[1]==True:\n",
    "            X_Vel_std = X_Vel_std*0.95\n",
    "            \n",
    "        elif i ==2 and loop_dict[2]==True:\n",
    "            Y_Pos_std = Y_Pos_std*0.95\n",
    "            \n",
    "        elif i ==3 and loop_dict[3]==True:\n",
    "            X_Pos_std = X_Pos_std*0.95\n",
    "            \n",
    "        current_Process_Noise = np.diag([(X_Pos_std) **2, X_Vel_std **2,\n",
    "                     (Y_Pos_std) **2, Y_Vel_std **2])\n",
    "        \n",
    "        total_groundtruth_list,total_noisy_observations,total_KF_predict,kf_cov_list = KF_model_evaluator_V2(State_Transition_Matrix,\n",
    "                                                                                                     Measurement_Function,\n",
    "                                                                                                     current_Process_Noise,\n",
    "                                                                                                     vardict_NoisyMoreThan20Data,\n",
    "                                                                                                     Measurement_Noise)\n",
    "        ed_pos_clean_kf = np.flip(np.sqrt(((total_groundtruth_list[:,0]-total_KF_predict[:,0])**2)+((total_groundtruth_list[:,2]-total_KF_predict[:,2])**2)))\n",
    "        ed_vel_clean_kf = np.flip(np.sqrt(((total_groundtruth_list[:,1]-total_KF_predict[:,1])**2)+((total_groundtruth_list[:,3]-total_KF_predict[:,3])**2)))\n",
    "        current_sum_mean_ED = np.mean(ed_pos_clean_kf) + np.mean(ed_vel_clean_kf)\n",
    "        Iteration_results.append(current_sum_mean_ED)\n",
    "        # print(\"TEST_current_sum_mean_ED:\",current_sum_mean_ED )\n",
    "        if (current_sum_mean_ED-prev_sum_mean_ED) >0:\n",
    "            print(\"i :\",i)\n",
    "            loop_dict[i]=False\n",
    "\n",
    "        if loop_dict[0]==False and loop_dict[1]==False and loop_dict[2]==False and loop_dict[3]==False:     \n",
    "            output = prev_Process_Noise\n",
    "            print(\"Output :\", output)\n",
    "            print(\"current_sum_mean_ED (Next Worse Iteration):\",current_sum_mean_ED )\n",
    "            print(\"SUM of Euclidean Position  for Kalman Filter :\",prev_sum_mean_ED )\n",
    "            loop_checker = False\n",
    "            break\n",
    "\n",
    "\n",
    "    "
   ]
  },
  {
   "cell_type": "code",
   "execution_count": 188,
   "id": "ebcb844e-ee3d-442f-b422-b584b4361f9f",
   "metadata": {},
   "outputs": [
    {
     "data": {
      "image/png": "[encoded data removed]",
      "text/plain": [
       "<Figure size 640x480 with 1 Axes>"
      ]
     },
     "metadata": {},
     "output_type": "display_data"
    }
   ],
   "source": [
    "iter= list(range(0,len(Iteration_results)))\n",
    "plt.plot(iter, Iteration_results, linestyle='--', marker='o', color='g')\n",
    "plt.title ('StepWise Regression Convergence Graph',fontsize=16)\n",
    "plt.xlabel ('Iteration No.',fontsize=14)\n",
    "plt.ylabel ('ED_Sum',fontsize=14)\n",
    "\n",
    "plt.show()"
   ]
  },
  {
   "cell_type": "code",
   "execution_count": 189,
   "id": "69b96aeb-d2ba-4b3d-94ae-d623cb387ab0",
   "metadata": {},
   "outputs": [
    {
     "data": {
      "text/plain": [
       "146"
      ]
     },
     "execution_count": 189,
     "metadata": {},
     "output_type": "execute_result"
    }
   ],
   "source": [
    "len(Iteration_results)"
   ]
  },
  {
   "cell_type": "markdown",
   "id": "0f012558-4c51-47b0-bbbd-b879018ce703",
   "metadata": {},
   "source": [
    "#### Optimized Results"
   ]
  },
  {
   "cell_type": "code",
   "execution_count": 190,
   "id": "13b6be80-5376-42a3-9345-5e83be2dcc6a",
   "metadata": {},
   "outputs": [
    {
     "name": "stdout",
     "output_type": "stream",
     "text": [
      "Output Diagonal: [0.11450353 0.01033637 0.01223285 0.01017467]\n",
      "OPTIMIZED_X_Pos_std 0.338384\n",
      "OPTIMIZED_X_Vel_std 0.101668\n",
      "OPTIMIZED_Y_Pos_std 0.110602\n",
      "OPTIMIZED_Y_Vel_std 0.10087\n"
     ]
    }
   ],
   "source": [
    "print(\"Output Diagonal:\", output.diagonal())\n",
    "\n",
    "OPTIMIZED_X_Pos_std = math.sqrt(output.diagonal()[0])\n",
    "OPTIMIZED_X_Vel_std = math.sqrt(output.diagonal()[1])\n",
    "OPTIMIZED_Y_Pos_std = math.sqrt(output.diagonal()[2])\n",
    "OPTIMIZED_Y_Vel_std = math.sqrt(output.diagonal()[3])\n",
    "\n",
    "print(\"OPTIMIZED_X_Pos_std\", round(OPTIMIZED_X_Pos_std,6))\n",
    "print(\"OPTIMIZED_X_Vel_std\", round(OPTIMIZED_X_Vel_std,6))\n",
    "print(\"OPTIMIZED_Y_Pos_std\", round(OPTIMIZED_Y_Pos_std,6))\n",
    "print(\"OPTIMIZED_Y_Vel_std\", round(OPTIMIZED_Y_Vel_std,6))"
   ]
  },
  {
   "cell_type": "code",
   "execution_count": 191,
   "id": "a27238fc-bc08-4a05-a882-fa6437bf8b7e",
   "metadata": {},
   "outputs": [],
   "source": [
    "## Marcus dummy Values\n",
    "# SUM of Euclidean Position  for Kalman Filter 0.49957\n",
    "\n",
    "## BaseLine values\n",
    "# SUM of Euclidean Position for Kalman Filter 0.69784\n",
    "\n",
    "## Optimized Values\n",
    "# SUM of Euclidean Position  for Kalman Filter 0.4717805712446064"
   ]
  },
  {
   "cell_type": "markdown",
   "id": "3c5d634d-9b94-49a2-acd2-d2dbf3df5edf",
   "metadata": {},
   "source": [
    "#### Comparison between BaseLine and Optimized KF Model"
   ]
  },
  {
   "cell_type": "code",
   "execution_count": 192,
   "id": "08946182-9f63-4a7d-a096-859ce304eccf",
   "metadata": {},
   "outputs": [],
   "source": [
    "import matplotlib.pyplot as plt\n",
    "import random\n",
    "\n",
    "\n",
    "def plot_stepwise_graph(cumulative_rmse_noisy, cumulative_rmse_kf, cumulative_rmse_kf_baseline, label_noisy, label_kf, label_baseline,title, ylabel):\n",
    "    \"\"\"\n",
    "    Plots the cumulative RMSE for noisy data and Kalman Filter predictions.\n",
    "\n",
    "    :param cumulative_rmse_noisy: Numpy array of cumulative RMSE values for noisy data.\n",
    "    :param cumulative_rmse_kf: Numpy array of cumulative RMSE values for Kalman Filter predictions.\n",
    "    :param label_noisy: Label for the noisy data plot.\n",
    "    :param label_kf: Label for the Kalman Filter data plot.\n",
    "    :param title: Title of the plot.\n",
    "    :param ylabel: Y-axis label of the plot.\n",
    "    \"\"\"\n",
    "    steps = np.arange(1, len(cumulative_rmse_noisy) + 1)\n",
    "    \n",
    "    plt.figure(figsize=(12, 6))\n",
    "    plt.plot(steps, cumulative_rmse_noisy, label=label_noisy, color='red', marker='o')\n",
    "    plt.plot(steps, cumulative_rmse_kf, label=label_kf, color='green', marker='x')\n",
    "    plt.plot(steps, cumulative_rmse_kf_baseline, label=label_baseline, color='blue', marker='s')\n",
    "    \n",
    "    plt.title(title,fontsize = 16)\n",
    "    plt.xlabel('Timestep',fontsize = 16)\n",
    "    plt.ylabel(ylabel,fontsize = 16)\n",
    "    plt.legend()\n",
    "    plt.grid(True)\n",
    "    plt.show()"
   ]
  },
  {
   "cell_type": "markdown",
   "id": "0720a886-8859-4f0d-a608-67c533e9cf58",
   "metadata": {},
   "source": [
    "#### For BaseLine Model"
   ]
  },
  {
   "cell_type": "code",
   "execution_count": 193,
   "id": "cc33c233-0cf2-41ef-909e-79c6cedf6c15",
   "metadata": {},
   "outputs": [
    {
     "data": {
      "text/plain": [
       "0.4845562461358055"
      ]
     },
     "execution_count": 193,
     "metadata": {},
     "output_type": "execute_result"
    }
   ],
   "source": [
    "BASELINE_X_Pos_std"
   ]
  },
  {
   "cell_type": "code",
   "execution_count": 194,
   "id": "e126c223-89a2-408b-ae17-7a996a2ec422",
   "metadata": {},
   "outputs": [
    {
     "name": "stdout",
     "output_type": "stream",
     "text": [
      "----------------------------------------------------------------\n",
      "Mean Euclidean Distance Error for Noisy Data X/Y Positions:  0.3755\n",
      "Mean Euclidean Distance Error for Kalman Filter Data X/Y Positions:  0.26974\n",
      "----------------------------------------------------------------\n",
      "Mean Euclidean Velocity Error for Noisy Data X/Y Velocities:  0.562\n",
      "Mean Euclidean Velocity Error for Kalman Filter Data X/Y Velocities:  0.28995\n",
      "----------------------------------------------------------------\n",
      "SUM of Euclidean Position for Kalman Filter 0.74272\n",
      "SUM of Euclidean Position for Noisy Data 0.9375\n"
     ]
    }
   ],
   "source": [
    "Process_Noise = np.diag([BASELINE_X_Pos_std **2, BASELINE_X_Vel_std **2,\n",
    "                         BASELINE_Y_Pos_std **2, BASELINE_Y_Vel_std  **2])\n",
    "\n",
    "total_groundtruth_list,total_noisy_observations,total_KF_predict,kf_cov_list = KF_model_evaluator_V2(State_Transition_Matrix,\n",
    "                                                                                                     Measurement_Function,\n",
    "                                                                                                     Process_Noise,\n",
    "                                                                                                     vardict_NoisyMoreThan20Data,\n",
    "                                                                                                     Measurement_Noise)\n",
    "\n",
    "ed_pos_clean_noisy = np.sqrt(((total_groundtruth_list[:,0]-total_noisy_observations[:,0])**2)+((total_groundtruth_list[:,2]-total_noisy_observations[:,2])**2))\n",
    "BASELINE_ed_pos_clean_kf = np.flip(np.sqrt(((total_groundtruth_list[:,0]-total_KF_predict[:,0])**2)+((total_groundtruth_list[:,2]-total_KF_predict[:,2])**2)))\n",
    "print(\"----------------------------------------------------------------\")\n",
    "print(\"Mean Euclidean Distance Error for Noisy Data X/Y Positions: \",round(np.mean(ed_pos_clean_noisy),5))\n",
    "print(\"Mean Euclidean Distance Error for Kalman Filter Data X/Y Positions: \",round(np.mean(ed_pos_clean_kf),5))\n",
    "\n",
    "ed_vel_clean_noisy = np.sqrt(((total_groundtruth_list[:,1]-total_noisy_observations[:,1])**2)+((total_groundtruth_list[:,3]-total_noisy_observations[:,3])**2))\n",
    "BASELINE_ed_vel_clean_kf = np.flip(np.sqrt(((total_groundtruth_list[:,1]-total_KF_predict[:,1])**2)+((total_groundtruth_list[:,3]-total_KF_predict[:,3])**2)))\n",
    "print(\"----------------------------------------------------------------\")\n",
    "print(\"Mean Euclidean Velocity Error for Noisy Data X/Y Velocities: \",round(np.mean(ed_vel_clean_noisy),5))\n",
    "print(\"Mean Euclidean Velocity Error for Kalman Filter Data X/Y Velocities: \",round(np.mean(ed_vel_clean_kf),5))\n",
    "\n",
    "BASELINE_baseline_sum = np.mean(BASELINE_ed_pos_clean_kf) + np.mean(BASELINE_ed_vel_clean_kf)\n",
    "noisy_sum =  np.mean(ed_pos_clean_noisy) + np.mean(ed_vel_clean_noisy)\n",
    "print(\"----------------------------------------------------------------\")\n",
    "print(\"SUM of Euclidean Position for Kalman Filter\", round(BASELINE_baseline_sum,5))\n",
    "print(\"SUM of Euclidean Position for Noisy Data\", round(noisy_sum,5))"
   ]
  },
  {
   "cell_type": "code",
   "execution_count": 195,
   "id": "7a08698c-2750-46e2-a7a5-466ad4e3758c",
   "metadata": {},
   "outputs": [
    {
     "name": "stdout",
     "output_type": "stream",
     "text": [
      "----------------------------------------------------------------\n",
      "Mean Euclidean Distance Error for Noisy Data X/Y Positions:  0.3755\n",
      "Mean Euclidean Distance Error for Kalman Filter Data X/Y Positions:  0.30641\n",
      "----------------------------------------------------------------\n",
      "Mean Euclidean Velocity Error for Noisy Data X/Y Velocities:  0.562\n",
      "Mean Euclidean Velocity Error for Kalman Filter Data X/Y Velocities:  0.43631\n",
      "----------------------------------------------------------------\n",
      "SUM of Euclidean Position for Kalman Filter 0.74272\n",
      "SUM of Euclidean Position for Noisy Data 0.9375\n"
     ]
    }
   ],
   "source": [
    "Process_Noise = np.diag([BASELINE_X_Pos_std **2, BASELINE_X_Vel_std **2,\n",
    "                         BASELINE_Y_Pos_std **2, BASELINE_Y_Vel_std  **2])\n",
    "\n",
    "total_groundtruth_list,total_noisy_observations,total_KF_predict,kf_cov_list = KF_model_evaluator_V2(State_Transition_Matrix,\n",
    "                                                                                                     Measurement_Function,\n",
    "                                                                                                     Process_Noise,\n",
    "                                                                                                     vardict_NoisyMoreThan20Data,\n",
    "                                                                                                     Measurement_Noise)\n",
    "\n",
    "ed_pos_clean_noisy = np.sqrt(((total_groundtruth_list[:,0]-total_noisy_observations[:,0])**2)+((total_groundtruth_list[:,2]-total_noisy_observations[:,2])**2))\n",
    "BASELINE_ed_pos_clean_kf = np.flip(np.sqrt(((total_groundtruth_list[:,0]-total_KF_predict[:,0])**2)+((total_groundtruth_list[:,2]-total_KF_predict[:,2])**2)))\n",
    "print(\"----------------------------------------------------------------\")\n",
    "print(\"Mean Euclidean Distance Error for Noisy Data X/Y Positions: \",round(np.mean(ed_pos_clean_noisy),5))\n",
    "print(\"Mean Euclidean Distance Error for Kalman Filter Data X/Y Positions: \",round(np.mean(BASELINE_ed_pos_clean_kf),5))\n",
    "\n",
    "ed_vel_clean_noisy = np.sqrt(((total_groundtruth_list[:,1]-total_noisy_observations[:,1])**2)+((total_groundtruth_list[:,3]-total_noisy_observations[:,3])**2))\n",
    "BASELINE_ed_vel_clean_kf = np.flip(np.sqrt(((total_groundtruth_list[:,1]-total_KF_predict[:,1])**2)+((total_groundtruth_list[:,3]-total_KF_predict[:,3])**2)))\n",
    "print(\"----------------------------------------------------------------\")\n",
    "print(\"Mean Euclidean Velocity Error for Noisy Data X/Y Velocities: \",round(np.mean(ed_vel_clean_noisy),5))\n",
    "print(\"Mean Euclidean Velocity Error for Kalman Filter Data X/Y Velocities: \",round(np.mean(BASELINE_ed_vel_clean_kf),5))\n",
    "\n",
    "BASELINE_baseline_sum = np.mean(BASELINE_ed_pos_clean_kf) + np.mean(BASELINE_ed_vel_clean_kf)\n",
    "noisy_sum =  np.mean(ed_pos_clean_noisy) + np.mean(ed_vel_clean_noisy)\n",
    "print(\"----------------------------------------------------------------\")\n",
    "print(\"SUM of Euclidean Position for Kalman Filter\", round(BASELINE_baseline_sum,5))\n",
    "print(\"SUM of Euclidean Position for Noisy Data\", round(noisy_sum,5))"
   ]
  },
  {
   "cell_type": "code",
   "execution_count": 196,
   "id": "bd4389b9-6c16-48a8-8dbc-4837da86f40a",
   "metadata": {},
   "outputs": [],
   "source": [
    "ed_squared_pos_clean_noisy = ed_pos_clean_noisy**2\n",
    "BASELINE_ed_squared_pos_clean_kf = BASELINE_ed_pos_clean_kf**2\n",
    "ed_squared_vel_clean_noisy = ed_vel_clean_noisy**2\n",
    "BASELINE_ed_squared_vel_clean_kf = BASELINE_ed_vel_clean_kf**2\n",
    "\n",
    "# Cumulative RMSE - Position\n",
    "cumulative_rmse_pos_noisy = np.sqrt(np.cumsum(ed_squared_pos_clean_noisy) / np.arange(1, len(ed_squared_pos_clean_noisy) + 1))\n",
    "baseline_cumulative_rmse_pos_kf = np.sqrt(np.cumsum(BASELINE_ed_squared_pos_clean_kf) / np.arange(1, len(BASELINE_ed_squared_pos_clean_kf) + 1))\n",
    "# Cumulative RMSE - Velocity\n",
    "cumulative_rmse_vel_noisy = np.sqrt(np.cumsum(ed_squared_vel_clean_noisy) / np.arange(1, len(ed_squared_vel_clean_noisy) + 1))\n",
    "baseline_cumulative_rmse_vel_kf = np.sqrt(np.cumsum(BASELINE_ed_squared_vel_clean_kf) / np.arange(1, len(BASELINE_ed_squared_vel_clean_kf) + 1))"
   ]
  },
  {
   "cell_type": "code",
   "execution_count": 197,
   "id": "4d622720-768e-44bf-a337-733628a79510",
   "metadata": {},
   "outputs": [
    {
     "name": "stdout",
     "output_type": "stream",
     "text": [
      "cumulative_rmse_pos_noisy : 0.4235756040478512\n",
      "cumulative_rmse_pos_kf : 0.3463199344914642\n",
      "cumulative_rmse_vel_noisy : 0.6339193149355098\n",
      "cumulative_rmse_vel_kf : 0.49149503718529214\n"
     ]
    }
   ],
   "source": [
    "print(\"cumulative_rmse_pos_noisy :\", cumulative_rmse_pos_noisy[-1])\n",
    "print(\"cumulative_rmse_pos_kf :\", baseline_cumulative_rmse_pos_kf[-1])\n",
    "print(\"cumulative_rmse_vel_noisy :\", cumulative_rmse_vel_noisy[-1])\n",
    "print(\"cumulative_rmse_vel_kf :\", baseline_cumulative_rmse_vel_kf[-1])"
   ]
  },
  {
   "cell_type": "code",
   "execution_count": 198,
   "id": "b000ed2d-7e97-4584-9d33-c116711a3c28",
   "metadata": {},
   "outputs": [
    {
     "name": "stdout",
     "output_type": "stream",
     "text": [
      "----------------------------------------------------------------\n",
      "Mean Euclidean Distance Error for Noisy Data X/Y Positions:  0.3755\n",
      "Mean Euclidean Distance Error for Kalman Filter Data X/Y Positions:  0.26977\n",
      "----------------------------------------------------------------\n",
      "Mean Euclidean Velocity Error for Noisy Data X/Y Velocities:  0.562\n",
      "Mean Euclidean Velocity Error for Kalman Filter Data X/Y Velocities:  0.2899\n",
      "----------------------------------------------------------------\n",
      "SUM of Euclidean Position for Kalman Filter 0.55967\n",
      "SUM of Euclidean Position for Noisy Data 0.9375\n"
     ]
    }
   ],
   "source": [
    "Process_Noise = np.diag([OPTIMIZED_X_Pos_std **2, OPTIMIZED_X_Vel_std **2,\n",
    "                         OPTIMIZED_Y_Pos_std **2, OPTIMIZED_Y_Vel_std  **2])\n",
    "\n",
    "total_groundtruth_list,total_noisy_observations,total_KF_predict,kf_cov_list = KF_model_evaluator_V2(State_Transition_Matrix,\n",
    "                                                                                                     Measurement_Function,\n",
    "                                                                                                     Process_Noise,\n",
    "                                                                                                     vardict_NoisyMoreThan20Data,\n",
    "                                                                                                     Measurement_Noise)\n",
    "\n",
    "ed_pos_clean_noisy = np.sqrt(((total_groundtruth_list[:,0]-total_noisy_observations[:,0])**2)+((total_groundtruth_list[:,2]-total_noisy_observations[:,2])**2))\n",
    "OPTIMIZED_ed_pos_clean_kf = np.flip(np.sqrt(((total_groundtruth_list[:,0]-total_KF_predict[:,0])**2)+((total_groundtruth_list[:,2]-total_KF_predict[:,2])**2)))\n",
    "print(\"----------------------------------------------------------------\")\n",
    "print(\"Mean Euclidean Distance Error for Noisy Data X/Y Positions: \",round(np.mean(ed_pos_clean_noisy),5))\n",
    "print(\"Mean Euclidean Distance Error for Kalman Filter Data X/Y Positions: \",round(np.mean(OPTIMIZED_ed_pos_clean_kf),5))\n",
    "\n",
    "ed_vel_clean_noisy = np.sqrt(((total_groundtruth_list[:,1]-total_noisy_observations[:,1])**2)+((total_groundtruth_list[:,3]-total_noisy_observations[:,3])**2))\n",
    "OPTIMIZED_ed_vel_clean_kf = np.flip(np.sqrt(((total_groundtruth_list[:,1]-total_KF_predict[:,1])**2)+((total_groundtruth_list[:,3]-total_KF_predict[:,3])**2)))\n",
    "print(\"----------------------------------------------------------------\")\n",
    "print(\"Mean Euclidean Velocity Error for Noisy Data X/Y Velocities: \",round(np.mean(ed_vel_clean_noisy),5))\n",
    "print(\"Mean Euclidean Velocity Error for Kalman Filter Data X/Y Velocities: \",round(np.mean(OPTIMIZED_ed_vel_clean_kf),5))\n",
    "\n",
    "OPTIMIZED_baseline_sum = np.mean(OPTIMIZED_ed_pos_clean_kf) + np.mean(OPTIMIZED_ed_vel_clean_kf)\n",
    "noisy_sum =  np.mean(ed_pos_clean_noisy) + np.mean(ed_vel_clean_noisy)\n",
    "print(\"----------------------------------------------------------------\")\n",
    "print(\"SUM of Euclidean Position for Kalman Filter\", round(OPTIMIZED_baseline_sum,5))\n",
    "print(\"SUM of Euclidean Position for Noisy Data\", round(noisy_sum,5))"
   ]
  },
  {
   "cell_type": "code",
   "execution_count": 199,
   "id": "00fc7de9-c1b8-47b9-a883-8342c1234852",
   "metadata": {},
   "outputs": [],
   "source": [
    "ed_squared_pos_clean_noisy = ed_pos_clean_noisy**2\n",
    "OPTIMIZED_ed_squared_pos_clean_kf = OPTIMIZED_ed_pos_clean_kf**2\n",
    "ed_squared_vel_clean_noisy = ed_vel_clean_noisy**2\n",
    "OPTIMIZED_ed_squared_vel_clean_kf = OPTIMIZED_ed_vel_clean_kf**2\n",
    "\n",
    "# Cumulative RMSE - Position\n",
    "cumulative_rmse_pos_noisy = np.sqrt(np.cumsum(ed_squared_pos_clean_noisy) / np.arange(1, len(ed_squared_pos_clean_noisy) + 1))\n",
    "OPTIMIZED_cumulative_rmse_pos_kf = np.sqrt(np.cumsum(OPTIMIZED_ed_squared_pos_clean_kf) / np.arange(1, len(OPTIMIZED_ed_squared_pos_clean_kf) + 1))\n",
    "# Cumulative RMSE - Velocity\n",
    "cumulative_rmse_vel_noisy = np.sqrt(np.cumsum(ed_squared_vel_clean_noisy) / np.arange(1, len(ed_squared_vel_clean_noisy) + 1))\n",
    "OPTIMIZED_cumulative_rmse_vel_kf = np.sqrt(np.cumsum(OPTIMIZED_ed_squared_vel_clean_kf) / np.arange(1, len(OPTIMIZED_ed_squared_vel_clean_kf) + 1))"
   ]
  },
  {
   "cell_type": "code",
   "execution_count": 200,
   "id": "aa8f7e9c-2f14-4177-b2ef-882fc7cdaa7d",
   "metadata": {},
   "outputs": [
    {
     "name": "stdout",
     "output_type": "stream",
     "text": [
      "cumulative_rmse_pos_noisy : 0.4235756040478512\n",
      "cumulative_rmse_pos_kf : 0.3073660979492646\n",
      "cumulative_rmse_vel_noisy : 0.6339193149355098\n",
      "cumulative_rmse_vel_kf : 0.34024667566361577\n"
     ]
    }
   ],
   "source": [
    "print(\"cumulative_rmse_pos_noisy :\", cumulative_rmse_pos_noisy[-1])\n",
    "print(\"cumulative_rmse_pos_kf :\", OPTIMIZED_cumulative_rmse_pos_kf[-1])\n",
    "print(\"cumulative_rmse_vel_noisy :\", cumulative_rmse_vel_noisy[-1])\n",
    "print(\"cumulative_rmse_vel_kf :\", OPTIMIZED_cumulative_rmse_vel_kf[-1])\n"
   ]
  },
  {
   "cell_type": "code",
   "execution_count": 202,
   "id": "fde3331d-dc27-449d-a0ea-2ac0b348f57f",
   "metadata": {},
   "outputs": [],
   "source": [
    "# Mean Euclidean Distance Error for Noisy Data X/Y Positions:  0.3755\n",
    "# Mean Euclidean Distance Error for Kalman Filter Data X/Y Positions:  0.26986\n",
    "# ----------------------------------------------------------------\n",
    "# Mean Euclidean Velocity Error for Noisy Data X/Y Velocities:  0.562\n",
    "# Mean Euclidean Velocity Error for Kalman Filter Data X/Y Velocities:  0.29014\n",
    "# ----------------------------------------------------------------\n",
    "# SUM of Euclidean Position for Kalman Filter 0.55999\n",
    "# SUM of Euclidean Position for Noisy Data 0.9375\n",
    "\n",
    "# cumulative_rmse_pos_noisy : 0.4235756040478512\n",
    "# cumulative_rmse_pos_kf : 0.30742651731248966\n",
    "# cumulative_rmse_vel_noisy : 0.6339193149355098\n",
    "# cumulative_rmse_vel_kf : 0.34064567985398575"
   ]
  },
  {
   "cell_type": "code",
   "execution_count": 203,
   "id": "28111b80-03e4-4340-b82b-86eee488e4ca",
   "metadata": {},
   "outputs": [
    {
     "data": {
      "image/png": "[encoded data removed]",
      "text/plain": [
       "<Figure size 1200x600 with 1 Axes>"
      ]
     },
     "metadata": {},
     "output_type": "display_data"
    },
    {
     "data": {
      "image/png": "[encoded data removed]",
      "text/plain": [
       "<Figure size 1200x600 with 1 Axes>"
      ]
     },
     "metadata": {},
     "output_type": "display_data"
    }
   ],
   "source": [
    "plot_stepwise_graph(cumulative_rmse_pos_noisy, OPTIMIZED_cumulative_rmse_pos_kf,baseline_cumulative_rmse_pos_kf ,'Sensor\\'s Noisy Position', 'Optimized KF Position','Baseline KF Position', 'Position RMSE (m) over Time Across All Pedestrians', 'RMSE (m)')\n",
    "plot_stepwise_graph(cumulative_rmse_vel_noisy, OPTIMIZED_cumulative_rmse_vel_kf,baseline_cumulative_rmse_vel_kf ,'Sensor\\'s Noisy Velocity', 'Optimized KF Velocity','Baseline KF Velocity', 'Velocity RMSE (m/s) over Time (Across All Pedestrians)', 'RMSE (m/s)')"
   ]
  },
  {
   "cell_type": "code",
   "execution_count": 205,
   "id": "35f54fa2-5065-4cfb-9e2e-43fc34569e27",
   "metadata": {},
   "outputs": [
    {
     "name": "stdout",
     "output_type": "stream",
     "text": [
      "Optimized KF Model Position ED RMSE : 0.307\n",
      "Optimized KF Model Velocity ED RMSE : 0.34\n",
      "Baseline KF Model Position ED RMSE : 0.346\n",
      "Baseline KF Model Velocity ED RMSE : 0.491\n",
      "Noisy Sensor Position ED RMSE : 0.424\n",
      "Noisy Sensor Velocity ED RMSE : 0.634\n"
     ]
    }
   ],
   "source": [
    "print(\"Optimized KF Model Position ED RMSE :\", round(OPTIMIZED_cumulative_rmse_pos_kf[-1],3))\n",
    "print(\"Optimized KF Model Velocity ED RMSE :\", round(OPTIMIZED_cumulative_rmse_vel_kf[-1],3))\n",
    "\n",
    "print(\"Baseline KF Model Position ED RMSE :\", round(baseline_cumulative_rmse_pos_kf[-1],3))\n",
    "print(\"Baseline KF Model Velocity ED RMSE :\", round(baseline_cumulative_rmse_vel_kf[-1],3))\n",
    "\n",
    "print(\"Noisy Sensor Position ED RMSE :\", round(cumulative_rmse_pos_noisy[-1],3))\n",
    "print(\"Noisy Sensor Velocity ED RMSE :\", round(cumulative_rmse_vel_noisy[-1],3))"
   ]
  }
 ],
 "metadata": {
  "kernelspec": {
   "display_name": "Python 3 (ipykernel)",
   "language": "python",
   "name": "python3"
  },
  "language_info": {
   "codemirror_mode": {
    "name": "ipython",
    "version": 3
   },
   "file_extension": ".py",
   "mimetype": "text/x-python",
   "name": "python",
   "nbconvert_exporter": "python",
   "pygments_lexer": "ipython3",
   "version": "3.11.7"
  }
 },
 "nbformat": 4,
 "nbformat_minor": 5
}
